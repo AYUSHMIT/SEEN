{
 "cells": [
  {
   "cell_type": "code",
   "execution_count": 1,
   "metadata": {},
   "outputs": [],
   "source": [
    "%matplotlib widget\n",
    "import torch\n",
    "import pickle\n",
    "import os\n",
    "from sklearn.cluster import DBSCAN\n",
    "import sys\n",
    "module_path = os.path.abspath(os.path.join('..'))\n",
    "if module_path not in sys.path:\n",
    "    sys.path.append(module_path)\n",
    "\n",
    "from tqdm.notebook import tqdm\n",
    "import network.cpc\n",
    "from network.cpc import CDCK2\n",
    "from torch.utils import data\n",
    "from utils.MatplotlibUtils import reduce_dims_and_plot\n",
    "from soft_decision_tree.sdt_model import SDT\n"
   ]
  },
  {
   "cell_type": "markdown",
   "metadata": {},
   "source": [
    "# Load the model and the dataset"
   ]
  },
  {
   "cell_type": "code",
   "execution_count": 2,
   "metadata": {},
   "outputs": [
    {
     "name": "stdout",
     "output_type": "stream",
     "text": [
      "Load the model from: C:\\Users\\eitan\\OneDrive - Technion\\Desktop\\tsne\\negative from sample\\with_data\\knn_loss_batch_512_k_32\\models\\epoch_40.pt\n"
     ]
    }
   ],
   "source": [
    "model_path = r'C:\\Users\\eitan\\OneDrive - Technion\\Desktop\\tsne\\negative from sample\\with_data\\knn_loss_batch_512_k_32\\models\\epoch_40.pt'\n",
    "dataset_path = r'C:\\Users\\eitan\\OneDrive - Technion\\Desktop\\tsne\\negative from sample\\with_data\\knn_loss_batch_512_k_32\\data\\test_data.file'\n",
    "batch_size = 32\n",
    "print(f\"Load the model from: {model_path}\")\n",
    "model = torch.load(model_path, map_location='cpu')\n",
    "\n",
    "with open(dataset_path, 'rb') as fp:\n",
    "    dataset = pickle.load(fp)\n",
    "    \n",
    "loader = data.DataLoader(dataset, batch_size=batch_size, shuffle=False)"
   ]
  },
  {
   "cell_type": "markdown",
   "metadata": {
    "pycharm": {
     "name": "#%% md\n"
    }
   },
   "source": [
    "# Extract representations"
   ]
  },
  {
   "cell_type": "code",
   "execution_count": 3,
   "metadata": {},
   "outputs": [
    {
     "data": {
      "application/vnd.jupyter.widget-view+json": {
       "model_id": "8602c0a3f94f4bc8bf03006f8d176852",
       "version_major": 2,
       "version_minor": 0
      },
      "text/plain": [
       "HBox(children=(FloatProgress(value=0.0, max=25367.0), HTML(value='')))"
      ]
     },
     "metadata": {},
     "output_type": "display_data"
    }
   ],
   "source": [
    "projections = torch.tensor([])\n",
    "model = model.eval()\n",
    "device = 'cpu'\n",
    "with torch.no_grad():\n",
    "    bar = tqdm(total=len(loader.dataset))\n",
    "    for batch in loader:\n",
    "        hidden = CDCK2.init_hidden(len(batch))\n",
    "        batch = batch.to(device)\n",
    "        hidden = hidden.to(device)\n",
    "\n",
    "        y = model.predict(batch, hidden).detach().cpu()\n",
    "        projections = torch.cat([projections, y])\n",
    "        bar.update(y.shape[0])"
   ]
  },
  {
   "cell_type": "markdown",
   "metadata": {},
   "source": [
    "# Cluster the data"
   ]
  },
  {
   "cell_type": "code",
   "execution_count": 9,
   "metadata": {},
   "outputs": [
    {
     "name": "stdout",
     "output_type": "stream",
     "text": [
      "{0, 1, 2, 3, 4, 5, 6, 7, 8, 9, 10, 11, 12, 13, -1}\n"
     ]
    }
   ],
   "source": [
    "clustering  = DBSCAN(eps=1.2).fit(projections)\n",
    "labels = set(clustering.labels_)\n",
    "print(labels)"
   ]
  },
  {
   "cell_type": "markdown",
   "metadata": {},
   "source": [
    "# Visualize with T-SNE"
   ]
  },
  {
   "cell_type": "code",
   "execution_count": null,
   "metadata": {
    "scrolled": true
   },
   "outputs": [
    {
     "data": {
      "application/vnd.jupyter.widget-view+json": {
       "model_id": "18e3387c890040deb4fd2352ae5e107e",
       "version_major": 2,
       "version_minor": 0
      },
      "text/plain": [
       "Canvas(toolbar=Toolbar(toolitems=[('Home', 'Reset original view', 'home', 'home'), ('Back', 'Back to previous …"
      ]
     },
     "metadata": {},
     "output_type": "display_data"
    },
    {
     "data": {
      "application/vnd.jupyter.widget-view+json": {
       "model_id": "1e08886784524342b3c01f90e00f1bb0",
       "version_major": 2,
       "version_minor": 0
      },
      "text/plain": [
       "Canvas(toolbar=Toolbar(toolitems=[('Home', 'Reset original view', 'home', 'home'), ('Back', 'Back to previous …"
      ]
     },
     "metadata": {},
     "output_type": "display_data"
    }
   ],
   "source": [
    "for perplexity in [50, 100, 200]:\n",
    "    reduce_dims_and_plot(projections,\n",
    "                         y=clustering.labels_,\n",
    "                         title=f'perplexity: {perplexity}',\n",
    "                         file_name=None,\n",
    "                         perplexity=perplexity,\n",
    "                         library='Multicore-TSNE',\n",
    "                         perform_PCA=False,\n",
    "                         projected=None,\n",
    "                         figure_type='3d',\n",
    "                         show_figure=True,\n",
    "                         close_figure=False,\n",
    "                         text=None)"
   ]
  },
  {
   "cell_type": "markdown",
   "metadata": {},
   "source": [
    "# Train a Soft-Decision-Tree given the self-labels"
   ]
  },
  {
   "cell_type": "code",
   "execution_count": null,
   "metadata": {},
   "outputs": [],
   "source": [
    "lr = 1e-3\n",
    "weight_decay = 5e-4"
   ]
  },
  {
   "cell_type": "code",
   "execution_count": null,
   "metadata": {},
   "outputs": [],
   "source": [
    "tree = SDT(input_dim=projections.shape[1], output_dim=len(labels), depth=12, lamda=1e-3, use_cuda=False)\n",
    "optimizer = torch.optim.Adam(tree.parameters(),\n",
    "                                 lr=lr,\n",
    "                                 weight_decay=weight_decay)\n",
    "tree = tree.to(device)"
   ]
  },
  {
   "cell_type": "code",
   "execution_count": null,
   "metadata": {},
   "outputs": [],
   "source": [
    "loader = data.DataLoader(projections, batch_size=batch_size, shuffle=False)"
   ]
  },
  {
   "cell_type": "code",
   "execution_count": null,
   "metadata": {},
   "outputs": [],
   "source": [
    "for epoch in range(epochs):\n",
    "    print(f\"Classes: {tree.get_classes()}\")\n",
    "    # Training\n",
    "    tree.train()\n",
    "    for batch_idx, (data, target) in enumerate(train_loader):\n",
    "\n",
    "        batch_size = data.size()[0]\n",
    "        data, target = data.to(device), target.to(device)\n",
    "        target_onehot = onehot_coding(target, device, output_dim)\n",
    "\n",
    "        output, penalty = tree.forward(data)\n",
    "\n",
    "        # Loss\n",
    "        loss = criterion(output, target.view(-1))\n",
    "\n",
    "        # Penalty\n",
    "        loss += penalty\n",
    "\n",
    "        # L1\n",
    "        fc_params = torch.cat([x.view(-1) for x in tree.inner_nodes.parameters()])\n",
    "        l1_regularization = torch.norm(fc_params, 1)\n",
    "        loss += args.sparsity_lamda * l1_regularization\n",
    "\n",
    "        optimizer.zero_grad()\n",
    "        loss.backward()\n",
    "        optimizer.step()\n",
    "\n",
    "        # Print training status\n",
    "        if batch_idx % log_interval == 0:\n",
    "            pred = output.data.max(1)[1]\n",
    "            correct = pred.eq(target.view(-1).data).sum()\n",
    "\n",
    "            msg = (\n",
    "                \"Epoch: {:02d} | Batch: {:03d} / {:03d} | Loss: {:.5f} |\"\n",
    "                \" Accuracy: {:03f}\"\n",
    "            )\n",
    "            print(msg.format(epoch, batch_idx, len(train_loader), loss.item(), correct.item() / batch_size))\n",
    "            training_loss_list.append(loss.cpu().data.numpy())"
   ]
  }
 ],
 "metadata": {
  "kernelspec": {
   "display_name": "Python 3",
   "language": "python",
   "name": "python3"
  },
  "language_info": {
   "codemirror_mode": {
    "name": "ipython",
    "version": 3
   },
   "file_extension": ".py",
   "mimetype": "text/x-python",
   "name": "python",
   "nbconvert_exporter": "python",
   "pygments_lexer": "ipython3",
   "version": "3.6.4"
  }
 },
 "nbformat": 4,
 "nbformat_minor": 4
}