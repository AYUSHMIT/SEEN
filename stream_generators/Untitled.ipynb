{
 "cells": [
  {
   "cell_type": "code",
   "execution_count": 1,
   "metadata": {},
   "outputs": [
    {
     "ename": "ModuleNotFoundError",
     "evalue": "No module named 'Condition'",
     "output_type": "error",
     "traceback": [
      "\u001b[1;31m---------------------------------------------------------------------------\u001b[0m",
      "\u001b[1;31mModuleNotFoundError\u001b[0m                       Traceback (most recent call last)",
      "\u001b[1;32m<ipython-input-1-71a2f7cb1934>\u001b[0m in \u001b[0;36m<module>\u001b[1;34m\u001b[0m\n\u001b[1;32m----> 1\u001b[1;33m \u001b[1;32mfrom\u001b[0m \u001b[0mStreamGeneratorSingleEventSubset\u001b[0m \u001b[1;32mimport\u001b[0m \u001b[0mStreamGeneratorSingleEventSubset\u001b[0m\u001b[1;33m\u001b[0m\u001b[0m\n\u001b[0m",
      "\u001b[1;32m~\\PycharmProjects\\GAStockPrediction\\bayes\\stream_generators\\StreamGeneratorSingleEventSubset.py\u001b[0m in \u001b[0;36m<module>\u001b[1;34m\u001b[0m\n\u001b[0;32m     11\u001b[0m \u001b[1;32mfrom\u001b[0m \u001b[0mtqdm\u001b[0m \u001b[1;32mimport\u001b[0m \u001b[0mtqdm\u001b[0m\u001b[1;33m\u001b[0m\u001b[0m\n\u001b[0;32m     12\u001b[0m \u001b[1;33m\u001b[0m\u001b[0m\n\u001b[1;32m---> 13\u001b[1;33m \u001b[1;32mfrom\u001b[0m \u001b[0mCondition\u001b[0m \u001b[1;32mimport\u001b[0m \u001b[0mCondition\u001b[0m\u001b[1;33m,\u001b[0m \u001b[0mTimeCondition\u001b[0m\u001b[1;33m\u001b[0m\u001b[0m\n\u001b[0m\u001b[0;32m     14\u001b[0m \u001b[1;32mfrom\u001b[0m \u001b[0mRules\u001b[0m\u001b[1;33m.\u001b[0m\u001b[0mrules\u001b[0m \u001b[1;32mimport\u001b[0m \u001b[0mRule\u001b[0m\u001b[1;33m\u001b[0m\u001b[0m\n\u001b[0;32m     15\u001b[0m \u001b[1;32mfrom\u001b[0m \u001b[0mdata_structures\u001b[0m\u001b[1;33m.\u001b[0m\u001b[0mEvent\u001b[0m \u001b[1;32mimport\u001b[0m \u001b[0mEvent\u001b[0m\u001b[1;33m,\u001b[0m \u001b[0mid_fn\u001b[0m\u001b[1;33m\u001b[0m\u001b[0m\n",
      "\u001b[1;31mModuleNotFoundError\u001b[0m: No module named 'Condition'"
     ]
    }
   ],
   "source": [
    "from StreamGeneratorSingleEventSubset import StreamGeneratorSingleEventSubset"
   ]
  },
  {
   "cell_type": "code",
   "execution_count": null,
   "metadata": {},
   "outputs": [],
   "source": [
    "stream = StreamGeneratorSingleEventSubset(\n",
    "        provided_conditions=None,\n",
    "        provided_events=None,\n",
    "        provided_patterns=None,\n",
    "        use_time_conditions=False,\n",
    "        use_attr_conditions=True,\n",
    "        min_length=stream_length,\n",
    "        num_events=num_events,\n",
    "        min_attributes=min_attrs,\n",
    "        max_attributes=max_attrs,\n",
    "        start_pattern_prob=1 - noise_prob,\n",
    "        continue_pattern_prob=1 - noise_prob,\n",
    "        patterns_count=patterns_count,\n",
    "        conditions_count=conditions_count,\n",
    "        subset=list(range(num_events)),\n",
    "        conditions_per_pattern=conditions_per_pattern,\n",
    "    )"
   ]
  }
 ],
 "metadata": {
  "kernelspec": {
   "display_name": "Python 3",
   "language": "python",
   "name": "python3"
  },
  "language_info": {
   "codemirror_mode": {
    "name": "ipython",
    "version": 3
   },
   "file_extension": ".py",
   "mimetype": "text/x-python",
   "name": "python",
   "nbconvert_exporter": "python",
   "pygments_lexer": "ipython3",
   "version": "3.6.4"
  }
 },
 "nbformat": 4,
 "nbformat_minor": 4
}
